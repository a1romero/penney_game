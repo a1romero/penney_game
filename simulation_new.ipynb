{
 "cells": [
  {
   "cell_type": "code",
   "execution_count": 1,
   "metadata": {},
   "outputs": [],
   "source": [
    "import numpy as np\n",
    "import src.v2 as v2"
   ]
  },
  {
   "cell_type": "code",
   "execution_count": 3,
   "metadata": {},
   "outputs": [
    {
     "data": {
      "text/plain": [
       "{'cards_win/': array([[0.0, 0.5, 0.0, 1.0, 1.0, 0.0, 1.0, 0.0],\n",
       "        [0.5, 0.0, 0.0, 0.0, 1.0, 0.0, 1.0, 0.0],\n",
       "        [1.0, 1.0, 0.0, 1.0, 1.0, 0.5, 1.0, 0.5],\n",
       "        [0.0, 1.0, 0.0, 0.0, 1.0, 0.0, 0.0, 0.0],\n",
       "        [0.0, 0.0, 0.0, 0.0, 0.0, 0.0, 1.0, 0.0],\n",
       "        [1.0, 1.0, 0.5, 1.0, 1.0, 0.0, 1.0, 0.5],\n",
       "        [0.0, 0.0, 0.0, 1.0, 0.0, 0.0, 0.0, 1.0],\n",
       "        [0.5, 1.0, 0.5, 1.0, 1.0, 0.5, 0.0, 0.0]], dtype=object),\n",
       " 'cards_draw/': array([[0, 0, 0, 0, 0, 0, 0, 1],\n",
       "        [0, 0, 0, 0, 0, 0, 0, 0],\n",
       "        [0, 0, 0, 0, 0, 0, 0, 0],\n",
       "        [0, 0, 0, 0, 0, 0, 0, 0],\n",
       "        [0, 0, 0, 0, 0, 0, 0, 0],\n",
       "        [0, 0, 0, 0, 0, 0, 0, 0],\n",
       "        [0, 0, 0, 0, 0, 0, 0, 0],\n",
       "        [1, 0, 0, 0, 0, 0, 0, 0]], dtype=object),\n",
       " 'tricks_win/': array([[0.0, 0.5, 0.0, 1.0, 1.0, 0.0, 1.0, 0.5],\n",
       "        [0.5, 0.0, 0.0, 0.0, 1.0, 0.0, 1.0, 0.0],\n",
       "        [1.0, 1.0, 0.0, 1.0, 1.0, 0.5, 1.0, 0.5],\n",
       "        [0.0, 1.0, 0.0, 0.0, 1.0, 0.0, 0.0, 0.0],\n",
       "        [0.0, 0.0, 0.0, 0.0, 0.0, 0.0, 1.0, 0.0],\n",
       "        [1.0, 1.0, 0.0, 1.0, 1.0, 0.0, 1.0, 1.0],\n",
       "        [0.0, 0.0, 0.0, 1.0, 0.0, 0.0, 0.0, 0.0],\n",
       "        [0.0, 1.0, 0.0, 1.0, 1.0, 0.0, 0.5, 0.0]], dtype=object),\n",
       " 'tricks_draw/': array([[0, 0, 0, 0, 0, 0, 0, 1],\n",
       "        [0, 0, 0, 0, 0, 0, 0, 0],\n",
       "        [0, 0, 0, 0, 0, 1, 0, 1],\n",
       "        [0, 0, 0, 0, 0, 0, 0, 0],\n",
       "        [0, 0, 0, 0, 0, 0, 0, 0],\n",
       "        [0, 0, 1, 0, 0, 0, 0, 0],\n",
       "        [0, 0, 0, 0, 0, 0, 0, 1],\n",
       "        [1, 0, 1, 0, 0, 0, 1, 0]], dtype=object)}"
      ]
     },
     "execution_count": 3,
     "metadata": {},
     "output_type": "execute_result"
    }
   ],
   "source": [
    "v2.play_n_games(2, data='data/')"
   ]
  }
 ],
 "metadata": {
  "kernelspec": {
   "display_name": "base",
   "language": "python",
   "name": "python3"
  },
  "language_info": {
   "codemirror_mode": {
    "name": "ipython",
    "version": 3
   },
   "file_extension": ".py",
   "mimetype": "text/x-python",
   "name": "python",
   "nbconvert_exporter": "python",
   "pygments_lexer": "ipython3",
   "version": "3.9.12"
  }
 },
 "nbformat": 4,
 "nbformat_minor": 2
}
