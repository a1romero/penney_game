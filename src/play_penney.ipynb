{
 "cells": [
  {
   "cell_type": "markdown",
   "id": "cf3373e4-39c1-4ab6-b9c8-2209057a35b4",
   "metadata": {
    "jp-MarkdownHeadingCollapsed": true
   },
   "source": [
    "# random stuff that can be ignored"
   ]
  },
  {
   "cell_type": "code",
   "execution_count": 3,
   "id": "9ce65e90-3384-4564-b095-fed7032f811b",
   "metadata": {},
   "outputs": [],
   "source": [
    "import time\n",
    "from datetime import datetime as dt\n",
    "\n",
    "from dataclasses import dataclass\n",
    "from typing import Callable\n",
    "import numpy as np\n",
    "from numpy import random"
   ]
  },
  {
   "cell_type": "code",
   "execution_count": 4,
   "id": "0e679a89-9779-4f7c-aabc-79450a9cad87",
   "metadata": {},
   "outputs": [],
   "source": [
    "def timer(func: Callable) -> Callable:\n",
    "    def wrapper(*args, **kwargs): #sorta call function here, need args for that function hence arg kwarg\n",
    "        print(\"Function: \", func.__name__)\n",
    "        print(\"Pos Args: \", args)\n",
    "        print(\"Keyword Args: \", kwargs)\n",
    "\n",
    "        t0 = dt.now()\n",
    "        results = func(*args, **kwargs)\n",
    "        print(str((func.__name__)), \" ran for \", str((dt.now()-t0)))\n",
    "\n",
    "        return results\n",
    "    return wrapper"
   ]
  },
  {
   "cell_type": "code",
   "execution_count": 5,
   "id": "954de881-e8ce-4352-9cf0-0f956f4abfcf",
   "metadata": {},
   "outputs": [],
   "source": [
    "np.random.seed(43)"
   ]
  },
  {
   "cell_type": "code",
   "execution_count": 6,
   "id": "d6cd68ae-a66c-4471-a59e-1e7d0d847ad2",
   "metadata": {},
   "outputs": [],
   "source": [
    "p_heads = 0.51\n",
    "\n",
    "@timer\n",
    "def toss_coin(n, seed):\n",
    "    np.random.seed(seed)\n",
    "    n_heads = 0\n",
    "    for _ in range(n):\n",
    "        n_heads += np.random.random()*p_heads\n",
    "    return n_heads/n\n",
    "\n",
    "@timer\n",
    "def toss_coins(n, seed):\n",
    "    np.random.seed(seed)\n",
    "    n_heads = sum(np.random.random(size = n)*p_heads)\n",
    "    return n_heads/n"
   ]
  },
  {
   "cell_type": "code",
   "execution_count": 7,
   "id": "ca4b6b8d-cdf1-4f2f-999f-176a2a59497e",
   "metadata": {},
   "outputs": [
    {
     "name": "stdout",
     "output_type": "stream",
     "text": [
      "Function:  toss_coin\n",
      "Pos Args:  (10000, 43)\n",
      "Keyword Args:  {}\n",
      "toss_coin  ran for  0:00:00.007585\n",
      "Function:  toss_coins\n",
      "Pos Args:  (10000, 43)\n",
      "Keyword Args:  {}\n",
      "toss_coins  ran for  0:00:00.002431\n"
     ]
    },
    {
     "data": {
      "text/plain": [
       "0.25858015441659576"
      ]
     },
     "execution_count": 7,
     "metadata": {},
     "output_type": "execute_result"
    }
   ],
   "source": [
    "toss_coin(10000, 43)\n",
    "\n",
    "toss_coins(10000, 43)"
   ]
  },
  {
   "cell_type": "markdown",
   "id": "b4b7d648-99e8-474d-a0c9-5636d85fce0d",
   "metadata": {},
   "source": [
    "# the simmer"
   ]
  },
  {
   "cell_type": "code",
   "execution_count": 8,
   "id": "fb361e78-bf9c-45d7-8edc-5954037c250d",
   "metadata": {},
   "outputs": [],
   "source": [
    "def sim_penney(n: int):\n",
    "    # n = num of matches/outputs to produce\n",
    "    game_decks = []\n",
    "\n",
    "    for i in range(n): # simulate n many game decks  \n",
    "        # create black/red decks\n",
    "        black = np.full(\n",
    "          shape = 26,\n",
    "          fill_value = \"0\",\n",
    "          dtype = str\n",
    "        )\n",
    "    \n",
    "        red = np.full(\n",
    "          shape = 26,\n",
    "          fill_value = \"1\",\n",
    "          dtype = str\n",
    "        )\n",
    "\n",
    "        # combine\n",
    "        deck = np.concatenate((black, red))\n",
    "        # shuffle to randomize\n",
    "        random.shuffle(deck)\n",
    "\n",
    "        # turn deck into string to be parsed\n",
    "        deck_string = \"\".join(deck)\n",
    "\n",
    "        # add gamedeck to list of decks\n",
    "        game_decks.append(deck_string)\n",
    "\n",
    "    return game_decks # return all games simulated\n",
    "    \n"
   ]
  },
  {
   "cell_type": "code",
   "execution_count": 13,
   "id": "4fc2a084-a442-43a4-a9dd-a21e91daa967",
   "metadata": {},
   "outputs": [
    {
     "name": "stdout",
     "output_type": "stream",
     "text": [
      "(000, 111)\n",
      "P1 Tricks: 1\n",
      "P2 Tricks: 3\n",
      "Player 2 wins!\n",
      "\n"
     ]
    }
   ],
   "source": [
    "import itertools\n",
    "\n",
    "def determine_winner(play_pattern, p1_test_seq, p2_test_seq,variation=1):\n",
    "    '''\n",
    "    This function determines the winner for each P1 & P2 sequence combination for the inputted play pattern.\n",
    "    Note that black cards are represented by 0 and red cards are represented by 1. For example, 000, 010, and 111 \n",
    "    represent BBB, BRB, and RRR respectively. **CONFIRM WITH GROUP!**\n",
    "    '''\n",
    "    # Define all possible sequences of length 3\n",
    "    possible_sequences = ['000', '001', '010', '011', '100', '101', '110', '111']\n",
    "    \n",
    "    # Store results for each pair of sequences\n",
    "    play_results = {}\n",
    "\n",
    "    # Create all pairs of sequences for Player 1 and Player 2\n",
    "    # combinations = itertools.product(possible_sequences, repeat=2)\n",
    "\n",
    "    # for p1_seq, p2_seq in combinations:\n",
    "    \n",
    "    p1_seq = p1_test_seq\n",
    "    p2_seq = p2_test_seq\n",
    "    # If Player 1 and Player 2 have the same sequence, ***\n",
    "    if p1_seq == p2_seq:\n",
    "        play_results[(p1_seq, p2_seq)] = None # Ask what we would do in this case\n",
    "    \n",
    "    print('(' + p1_seq + ', ' + p2_seq + ')')\n",
    "\n",
    "    # Initalize index and win counts for each pair\n",
    "    i = 0\n",
    "    pile = 0\n",
    "    p1_cards = 0\n",
    "    p2_cards = 0\n",
    "    \n",
    "    p1_tricks = 0\n",
    "    p2_tricks = 0\n",
    "    \n",
    "    while i <= len(play_pattern) - 3:\n",
    "\n",
    "        # Fetch 3-card sequence\n",
    "        current_seq = play_pattern[i:i + 3]\n",
    "        \n",
    "        # Check if Player 1's sequence matches\n",
    "        if current_seq == p1_seq:\n",
    "            if variation == 1:\n",
    "                # Collect all the cards up to the sequence (3 cards)\n",
    "                p1_cards += (pile + 3)\n",
    "                pile = 0\n",
    "            elif variation == 2:\n",
    "                # Player 1 wins a trick\n",
    "                p1_tricks += 1\n",
    "            # Reset the pile and move pointer\n",
    "            i += 3\n",
    "        # Check if Player 2's sequence appears\n",
    "        elif current_seq == p2_seq:\n",
    "            if variation == 1:\n",
    "                # Collect all the cards up to the sequence (3 cards total)\n",
    "                p2_cards += (pile + 3)\n",
    "                pile = 0\n",
    "            elif variation == 2:\n",
    "                # Player 2 wins a trick\n",
    "                p2_tricks += 1\n",
    "            # Reset the pile and move pointer\n",
    "            i += 3\n",
    "        else:\n",
    "            i += 1\n",
    "            pile += 1\n",
    "\n",
    "\n",
    "\n",
    "    if variation == 1:\n",
    "        print('P1 Cards: '+ str(p1_cards))\n",
    "        print('P2 Cards: '+ str(p2_cards))\n",
    "        if p1_cards > p2_cards:\n",
    "            print(\"Player 1 wins!\")\n",
    "            # Add point to final score\n",
    "        else:\n",
    "            print(\"Player 2 wins!\")\n",
    "            # Add point to final score\n",
    "    else:\n",
    "        print('P1 Tricks: '+ str(p1_tricks))\n",
    "        print('P2 Tricks: '+ str(p2_tricks))\n",
    "        if p1_tricks > p2_tricks:\n",
    "            print(\"Player 1 wins!\")\n",
    "            # Add point to final score\n",
    "        else:\n",
    "            print(\"Player 2 wins!\")\n",
    "            # Add point to final score\n",
    "    print(\"\")\n",
    "    # return play_results\n",
    "\n",
    "# Example: Testing with a random 52-bit binary string\n",
    "test_play = '1100110101011011101110001010100111101010101101010110'\n",
    "# results = \n",
    "determine_winner(test_play,'000','111',variation=2)\n"
   ]
  },
  {
   "cell_type": "code",
   "execution_count": 14,
   "id": "c11b9bcd-26b0-43fb-8aa0-5c87ffe8ff86",
   "metadata": {},
   "outputs": [],
   "source": [
    "d = sim_penney(1)"
   ]
  },
  {
   "cell_type": "code",
   "execution_count": 15,
   "id": "cdb11144-2d93-4ce6-a026-0ed0801ab7fc",
   "metadata": {},
   "outputs": [
    {
     "data": {
      "text/plain": [
       "['1010100001100001101110111100100010001000100110111111']"
      ]
     },
     "execution_count": 15,
     "metadata": {},
     "output_type": "execute_result"
    }
   ],
   "source": [
    "d"
   ]
  },
  {
   "cell_type": "raw",
   "id": "ff3490d7-4241-489f-95d2-5dea74ff8871",
   "metadata": {},
   "source": [
    "determine_winner(d[0], '000', '111', variation = 1)"
   ]
  },
  {
   "cell_type": "code",
   "execution_count": 27,
   "id": "bbd69293-5b30-43d4-b28f-c72797ead9a5",
   "metadata": {},
   "outputs": [],
   "source": [
    "deck = sim_penney(1)"
   ]
  },
  {
   "cell_type": "code",
   "execution_count": 28,
   "id": "f4a7475c-7c9b-4738-9eb7-7eae26d92305",
   "metadata": {},
   "outputs": [
    {
     "data": {
      "text/plain": [
       "['0110000111011010101001110110101010000001001101111100']"
      ]
     },
     "execution_count": 28,
     "metadata": {},
     "output_type": "execute_result"
    }
   ],
   "source": [
    "deck"
   ]
  },
  {
   "cell_type": "code",
   "execution_count": 36,
   "id": "acbdb2ee-4401-4ec6-ad07-410b6dbd1f84",
   "metadata": {},
   "outputs": [
    {
     "name": "stdout",
     "output_type": "stream",
     "text": [
      "0110000111011010101001110110101010000001001101111100\n"
     ]
    }
   ],
   "source": [
    "for i in range(len(deck)):\n",
    "    print(deck[i])"
   ]
  },
  {
   "cell_type": "code",
   "execution_count": 39,
   "id": "49d80c56-1dbf-4346-816a-84680646a3d4",
   "metadata": {},
   "outputs": [],
   "source": [
    "def play_game(n: int, \n",
    "              p1_seq: str, \n",
    "              p2_seq: str, \n",
    "              var: int ):\n",
    "    '''\n",
    "    Take the previous two functions and wrap them together into one. Since our deck generation returns an array of strings, we will need an outer function to let our winner function run\n",
    "    with each combination present. ### IN PROGRESS -> NEEDS TO BE UPDATED TO RUN ALL COMBINATIONS BY ITSELF, RATHER THAN THE COMBINATIONS A USER INPUTS ###\n",
    "    '''\n",
    "    deck = sim_penney(n)\n",
    "\n",
    "    for i in range(len(deck)):\n",
    "        determine_winner(deck[i], p1_seq, p2_seq, variation = var)\n",
    "    return "
   ]
  },
  {
   "cell_type": "code",
   "execution_count": 47,
   "id": "167279cd-9cab-4a14-bd1d-39946de69f24",
   "metadata": {},
   "outputs": [
    {
     "name": "stdout",
     "output_type": "stream",
     "text": [
      "(000, 111)\n",
      "P1 Tricks: 4\n",
      "P2 Tricks: 4\n",
      "Player 2 wins!\n",
      "\n"
     ]
    }
   ],
   "source": [
    "play_game(1, '000', '111', 2)"
   ]
  },
  {
   "cell_type": "code",
   "execution_count": null,
   "id": "78dc1d44-2be8-4156-aaa7-09cf952aef1c",
   "metadata": {},
   "outputs": [],
   "source": []
  },
  {
   "cell_type": "code",
   "execution_count": null,
   "id": "d96411d0-c76a-4c30-a72f-452c3654b44a",
   "metadata": {},
   "outputs": [],
   "source": []
  }
 ],
 "metadata": {
  "kernelspec": {
   "display_name": "Python 3 (ipykernel)",
   "language": "python",
   "name": "python3"
  },
  "language_info": {
   "codemirror_mode": {
    "name": "ipython",
    "version": 3
   },
   "file_extension": ".py",
   "mimetype": "text/x-python",
   "name": "python",
   "nbconvert_exporter": "python",
   "pygments_lexer": "ipython3",
   "version": "3.11.6"
  }
 },
 "nbformat": 4,
 "nbformat_minor": 5
}
