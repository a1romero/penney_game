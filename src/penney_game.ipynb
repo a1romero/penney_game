{
 "cells": [
  {
   "cell_type": "markdown",
   "metadata": {},
   "source": [
    "## Data Management"
   ]
  },
  {
   "cell_type": "code",
   "execution_count": 1,
   "metadata": {},
   "outputs": [],
   "source": [
    "import pandas as pd\n",
    "import numpy as np\n",
    "import re"
   ]
  },
  {
   "cell_type": "code",
   "execution_count": 2,
   "metadata": {},
   "outputs": [],
   "source": [
    "def play(n):\n",
    "    return ''.join(map(str, np.random.randint(0,1+1,n)))"
   ]
  },
  {
   "cell_type": "code",
   "execution_count": 3,
   "metadata": {},
   "outputs": [
    {
     "data": {
      "text/plain": [
       "'0101000110010111001100111001011111000011010011110011'"
      ]
     },
     "execution_count": 3,
     "metadata": {},
     "output_type": "execute_result"
    }
   ],
   "source": [
    "play(52)"
   ]
  },
  {
   "cell_type": "code",
   "execution_count": 4,
   "metadata": {},
   "outputs": [],
   "source": [
    "def shuffle_deck():\n",
    "    rng = np.random.default_rng()\n",
    "    deck = np.ndarray.flatten((np.stack((np.ones(26), np.zeros(26)), axis= 0).astype(int)))\n",
    "    rng.shuffle(deck)\n",
    "    return deck, ''.join(map(str, deck))"
   ]
  },
  {
   "cell_type": "code",
   "execution_count": 5,
   "metadata": {},
   "outputs": [
    {
     "data": {
      "text/plain": [
       "(array([0, 1, 1, 0, 0, 0, 0, 1, 1, 0, 1, 0, 0, 1, 0, 1, 1, 1, 1, 1, 0, 1,\n",
       "        1, 0, 0, 1, 1, 0, 1, 1, 0, 1, 1, 1, 0, 0, 1, 0, 1, 0, 0, 1, 0, 0,\n",
       "        0, 0, 1, 0, 0, 1, 1, 0]),\n",
       " '0110000110100101111101100110110111001010010000100110')"
      ]
     },
     "execution_count": 5,
     "metadata": {},
     "output_type": "execute_result"
    }
   ],
   "source": [
    "deck1 = shuffle_deck()\n",
    "deck1"
   ]
  },
  {
   "cell_type": "code",
   "execution_count": 6,
   "metadata": {},
   "outputs": [],
   "source": [
    "def match_choice(choice, deck):\n",
    "    index_matches = [match.start() for match in re.finditer(choice, deck)]\n",
    "    return index_matches"
   ]
  },
  {
   "cell_type": "code",
   "execution_count": 7,
   "metadata": {},
   "outputs": [
    {
     "name": "stdout",
     "output_type": "stream",
     "text": [
      "p1:  [5, 9, 28, 31, 40, 44] p2:  [26, 43]\n"
     ]
    }
   ],
   "source": [
    "deck_arr, deck_str = shuffle_deck()\n",
    "p1 = match_choice('001', deck_str)\n",
    "p2 = match_choice('000', deck_str)\n",
    "print('p1: ', p1, 'p2: ', p2)"
   ]
  },
  {
   "cell_type": "code",
   "execution_count": 8,
   "metadata": {},
   "outputs": [],
   "source": [
    "def who_wins_patterns(p1_choice, p2_choice, deck):\n",
    "    p1 = match_choice(p1_choice, deck)\n",
    "    p2 = match_choice(p2_choice, deck)\n",
    "    print('p1:', p1, '\\np2:', p2)\n",
    "\n",
    "    all_choices = np.sort(p1 + p2)\n",
    "    print(all_choices)\n",
    "    if len(p1) > len(p2):\n",
    "        print('p1 won with choice', p1_choice)\n",
    "        return 'p1', p1_choice\n",
    "    elif len(p1) == len(p2):\n",
    "        print('same number of wins')\n",
    "        return 'draw', p1_choice\n",
    "    else:\n",
    "        print('p2 won with choice', p2_choice)\n",
    "        return 'p2', p2_choice"
   ]
  },
  {
   "cell_type": "code",
   "execution_count": 66,
   "metadata": {},
   "outputs": [
    {
     "name": "stdout",
     "output_type": "stream",
     "text": [
      "deck: 0011100101001100010100111110111110000001001110101100\n",
      "p1: [0, 5, 10, 15, 20, 37, 40] \n",
      "p2: [6, 16, 38, 45]\n",
      "[ 0  5  6 10 15 16 20 37 38 40 45]\n",
      "p1 won with choice 001\n"
     ]
    },
    {
     "data": {
      "text/plain": [
       "('p1', '001')"
      ]
     },
     "execution_count": 66,
     "metadata": {},
     "output_type": "execute_result"
    }
   ],
   "source": [
    "deck_arr, deck_str = shuffle_deck()\n",
    "print('deck:', deck_str)\n",
    "who_wins_patterns('001', '010', deck_str)"
   ]
  }
 ],
 "metadata": {
  "kernelspec": {
   "display_name": "base",
   "language": "python",
   "name": "python3"
  },
  "language_info": {
   "codemirror_mode": {
    "name": "ipython",
    "version": 3
   },
   "file_extension": ".py",
   "mimetype": "text/x-python",
   "name": "python",
   "nbconvert_exporter": "python",
   "pygments_lexer": "ipython3",
   "version": "3.9.12"
  }
 },
 "nbformat": 4,
 "nbformat_minor": 2
}
