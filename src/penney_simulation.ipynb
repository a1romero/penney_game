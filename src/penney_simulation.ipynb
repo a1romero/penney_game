{
 "cells": [
  {
   "cell_type": "code",
   "execution_count": 1,
   "id": "f752be72-4372-4fcb-844b-d05740328acd",
   "metadata": {},
   "outputs": [],
   "source": [
    "import numpy as np\n",
    "from numpy import random"
   ]
  },
  {
   "cell_type": "code",
   "execution_count": null,
   "id": "be4a1370-0425-4697-8fd7-d1c0ce3ae003",
   "metadata": {},
   "outputs": [],
   "source": [
    "def sim_penney(n: int):\n",
    "    # n = num of matches/outputs to produce\n",
    "    game_decks = []\n",
    "\n",
    "    for i in range(n): # simulate n many game decks  \n",
    "        # create black/red decks\n",
    "        black = np.full(\n",
    "          shape = 26,\n",
    "          fill_value = \"0\",\n",
    "          dtype = str\n",
    "        )\n",
    "    \n",
    "        red = np.full(\n",
    "          shape = 26,\n",
    "          fill_value = \"1\",\n",
    "          dtype = str\n",
    "        )\n",
    "\n",
    "        # combine\n",
    "        deck = np.concatenate((black, red))\n",
    "        # shuffle to randomize\n",
    "        random.shuffle(deck)\n",
    "\n",
    "        # turn deck into string to be parsed\n",
    "        deck_string = \"\".join(deck)\n",
    "\n",
    "        # add gamedeck to list of decks\n",
    "        game_decks.append(deck_string)\n",
    "\n",
    "    return game_decks # return all games simulated"
   ]
  }
 ],
 "metadata": {
  "kernelspec": {
   "display_name": "Python 3 (ipykernel)",
   "language": "python",
   "name": "python3"
  },
  "language_info": {
   "codemirror_mode": {
    "name": "ipython",
    "version": 3
   },
   "file_extension": ".py",
   "mimetype": "text/x-python",
   "name": "python",
   "nbconvert_exporter": "python",
   "pygments_lexer": "ipython3",
   "version": "3.11.6"
  }
 },
 "nbformat": 4,
 "nbformat_minor": 5
}
