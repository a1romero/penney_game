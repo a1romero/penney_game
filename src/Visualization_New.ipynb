{
 "cells": [
  {
   "cell_type": "markdown",
   "id": "12a19226-9b26-4813-8e58-fbabc5558e69",
   "metadata": {},
   "source": [
    "# Testing file - generate graphs w/ dictionary"
   ]
  },
  {
   "cell_type": "code",
   "execution_count": 32,
   "id": "4cfc57b3-cf53-4905-a50b-190e5b619097",
   "metadata": {},
   "outputs": [],
   "source": [
    "import numpy as np\n",
    "import plotly.graph_objects as go\n",
    "import seaborn as sns\n",
    "import matplotlib.pyplot as plt\n",
    "import matplotlib.ticker as mtick\n"
   ]
  },
  {
   "cell_type": "code",
   "execution_count": 19,
   "id": "7f9ffc84-69d4-4e90-b422-b4e19f3917e7",
   "metadata": {},
   "outputs": [],
   "source": [
    "# generate random data for testing\n",
    "card_wins = np.random.uniform(0, 1, (8, 8))\n",
    "np.fill_diagonal(card_wins, None)\n",
    "card_ties = np.random.uniform(0, 1, (8, 8))\n",
    "np.fill_diagonal(card_ties, None)\n",
    "trick_wins = np.random.uniform(0, 1, (8, 8))\n",
    "np.fill_diagonal(trick_wins, None)\n",
    "trick_ties = np.random.uniform(0, 1, (8, 8))\n",
    "np.fill_diagonal(trick_ties, None)\n",
    "total_iterations = 1693"
   ]
  },
  {
   "cell_type": "code",
   "execution_count": 20,
   "id": "debea98a-4d4a-4c7c-b54f-bf191f7a73ef",
   "metadata": {},
   "outputs": [],
   "source": [
    "vis_dict = {'cards':card_wins, 'cards_ties': card_ties, 'tricks':trick_wins, \n",
    "             'tricks_ties':trick_ties, 'n':total_iterations}"
   ]
  },
  {
   "cell_type": "code",
   "execution_count": 23,
   "id": "fc14c7eb-49d1-436f-bbfa-fba6c5793fe2",
   "metadata": {},
   "outputs": [],
   "source": [
    "def create_heatmap(graph_format:str):\n",
    "    '''\n",
    "    takes in variable graph_format which should be either 'html', 'png', or 'both'. Takes in dictionary with four \n",
    "    8x8 arrays (card wins, card ties, trick wins, trick ties) and the number of total iterations. Calls functions\n",
    "    to create visualizations specified. Saves whichever functions are specified. \n",
    "    '''\n",
    "    \n",
    "    data = vis_dict # would import dictionary as json\n",
    "    \n",
    "    # load data from dictionary\n",
    "    cards = data['cards']\n",
    "    cards_ties = data['cards_ties']\n",
    "    tricks = data['tricks']\n",
    "    tricks_ties = data['tricks_ties']\n",
    "    n = data['n']\n",
    "\n",
    "    # call get_labels function to make array w/ labels\n",
    "    cards_labels, tricks_labels = get_labels(cards, cards_ties, tricks, tricks_ties)  \n",
    "\n",
    "    # generate and save html\n",
    "    if graph_format == 'html' or graph_format == 'both':\n",
    "        create_html(cards, cards_labels, tricks, tricks_labels)\n",
    "\n",
    "    # generate and save png\n",
    "    if graph_format == 'png' or graph_format == 'both':\n",
    "        create_png(cards, cards_labels, tricks, tricks_labels)\n",
    "\n",
    "    # in case of invalid input\n",
    "    if graph_format != 'html' and graph_format != 'png' and graph_format != 'both':\n",
    "        print('graph type not supported')\n",
    "    \n",
    "    return None"
   ]
  },
  {
   "cell_type": "code",
   "execution_count": 22,
   "id": "13abcc63-c4ed-41a3-8a70-7809c6eb8274",
   "metadata": {},
   "outputs": [],
   "source": [
    "def get_labels(cards, cards_ties, tricks, tricks_ties):\n",
    "    '''\n",
    "    create labels for the graph\n",
    "    '''\n",
    "\n",
    "    # prep data for labels\n",
    "    cards_prep = np.transpose(np.round((cards)*100,0))\n",
    "    cards_ties_prep = np.transpose(np.round((cards_ties)*100,0))\n",
    "    tricks_prep = np.transpose(np.round((tricks)*100,0))\n",
    "    tricks_ties_prep = np.transpose(np.round((tricks_ties)*100,0))\n",
    "\n",
    "    # creating the arrays for labels for cards\n",
    "    cards_labels = []\n",
    "    for i in range(8):\n",
    "        for j in range(8):\n",
    "            label = str(cards_prep[i][j])[:-2] + ' (' + str(cards_ties_prep[i][j])[:-2] + ')'\n",
    "            cards_labels += [label]\n",
    "    cards_labels = np.reshape(cards_labels, (8,8))\n",
    "    np.fill_diagonal(cards_labels, \"\")\n",
    "\n",
    "    # creating the arrays for labels for tricks\n",
    "    tricks_labels = []\n",
    "    for i in range(8):\n",
    "        for j in range(8):\n",
    "            label = str(tricks_prep[i][j])[:-2] + ' (' + str(tricks_ties_prep[i][j])[:-2] + ')'\n",
    "            tricks_labels += [label]\n",
    "    tricks_labels = np.reshape(tricks_labels, (8,8))\n",
    "    np.fill_diagonal(tricks_labels, \"\")\n",
    "    \n",
    "    return cards_labels, tricks_labels\n"
   ]
  },
  {
   "cell_type": "code",
   "execution_count": 25,
   "id": "1639e4d2-3ac9-4ad3-97d0-2933cb879891",
   "metadata": {},
   "outputs": [],
   "source": [
    "def create_html(cards, cards_labels, tricks, tricks_labels):\n",
    "\n",
    "    # Create html for cards\n",
    "    fig = go.Figure(data = go.Heatmap(\n",
    "                   z = cards, colorscale = 'blues', # 'RdYlGn' or 'RdBu' or 'Oranges' or 'Fall_r'\n",
    "                   hovertemplate = \"%{y}:%{x} win ratio <br />%{z}\", name = \"\", # the name part stops 'trace=0' from popping up\n",
    "                   text=cards_labels, texttemplate='%{text}',  \n",
    "                   x = ['RRR', 'RRB', 'RBR', 'RBB', 'BRR', 'BRB', 'BBR', 'BBB'],\n",
    "                   y = ['RRR', 'RRB', 'RBR', 'RBB', 'BRR', 'BRB', 'BBR', 'BBB'],\n",
    "                   hoverongaps = False,\n",
    "                   colorbar=dict(\n",
    "                        tickformat=\".0%\"\n",
    "                   )))\n",
    "    \n",
    "    fig.update_layout(\n",
    "        \n",
    "        title=f'Penney Game<br>My Win Percentage (and Tie Percentage) By Cards<br> Total Games: {total_iterations}',\n",
    "        title_x = 0.5,\n",
    "        title_y = 0.95,\n",
    "        title_font_size = 20,\n",
    "        plot_bgcolor = 'white',\n",
    "        xaxis = dict(\n",
    "            title = 'My Choice'  \n",
    "        ),\n",
    "        yaxis = dict(\n",
    "            title = \"Opponent's Choice\"\n",
    "        ),\n",
    "        width = 600,\n",
    "        height = 600\n",
    "        )\n",
    "    \n",
    "    fig.update_traces(\n",
    "        xgap = 1, ygap = 1\n",
    "        )\n",
    "\n",
    "    path = f\"figures/heatmap_cards_.html\"\n",
    "    fig.write_html(path)\n",
    "    \n",
    "    fig.show()\n",
    "\n",
    "#######\n",
    "    \n",
    "    # Create html for tricks\n",
    "    fig = go.Figure(data = go.Heatmap(\n",
    "                   z = tricks, colorscale = 'blues', # 'RdYlGn' or 'RdBu' or 'Oranges' or 'Fall_r'\n",
    "                   hovertemplate = \"%{y}:%{x} win ratio <br />%{z}\", name = \"\", # the name part stops 'trace=0' from popping up\n",
    "                   text=tricks_labels, texttemplate='%{text}',  \n",
    "                   x = ['RRR', 'RRB', 'RBR', 'RBB', 'BRR', 'BRB', 'BBR', 'BBB'],\n",
    "                   y = ['RRR', 'RRB', 'RBR', 'RBB', 'BRR', 'BRB', 'BBR', 'BBB'],\n",
    "                   hoverongaps = False,\n",
    "                   colorbar=dict(\n",
    "                        tickformat=\".0%\"\n",
    "                   )))\n",
    "    \n",
    "    fig.update_layout(\n",
    "        \n",
    "        title=f'Penney Game<br>My Win Percentage (and Tie Percentage) By Tricks<br> Total Games: {total_iterations}',\n",
    "        title_x = 0.5,\n",
    "        title_y = 0.95,\n",
    "        title_font_size = 20,\n",
    "        plot_bgcolor = 'white',\n",
    "        xaxis = dict(\n",
    "            title = 'My Choice'  \n",
    "        ),\n",
    "        yaxis = dict(\n",
    "            title = \"Opponent's Choice\"\n",
    "        ),\n",
    "        width = 600,\n",
    "        height = 600\n",
    "        )\n",
    "    \n",
    "    fig.update_traces(\n",
    "        xgap = 1, ygap = 1\n",
    "        )\n",
    "\n",
    "    path = f\"figures/heatmap_tricks_.html\"\n",
    "    fig.write_html(path)\n",
    "    \n",
    "    fig.show()"
   ]
  },
  {
   "cell_type": "code",
   "execution_count": 51,
   "id": "c20dfc05-7b85-4cc2-8231-ebd2eb2dc406",
   "metadata": {},
   "outputs": [
    {
     "ename": "SyntaxError",
     "evalue": "invalid syntax. Perhaps you forgot a comma? (661127045.py, line 8)",
     "output_type": "error",
     "traceback": [
      "\u001b[0;36m  Cell \u001b[0;32mIn[51], line 8\u001b[0;36m\u001b[0m\n\u001b[0;31m    annot_kws={\"size\": 10}\u001b[0m\n\u001b[0m              ^\u001b[0m\n\u001b[0;31mSyntaxError\u001b[0m\u001b[0;31m:\u001b[0m invalid syntax. Perhaps you forgot a comma?\n"
     ]
    }
   ],
   "source": [
    "def create_png(cards, cards_labels, tricks, tricks_labels):\n",
    "\n",
    "    plt.figure(figsize=(10,8))\n",
    "    sns.heatmap(cards,\n",
    "                #annot=cards_labels,\n",
    "                cmap=\"Blues\",\n",
    "                linewidths=.50,\n",
    "                annot_kws={\"size\": 10}\n",
    "                cbar_kws={'label': 'Win Probability', \n",
    "                'format': mtick.PercentFormatter(xmax=1, decimals=0)})\n",
    "    plt.title('Win Probabilities for Card Scoring')\n",
    "    plt.xlabel('Player 2 Choice')\n",
    "    plt.ylabel('Player 1 Choice')\n",
    "    plt.savefig('figures/num_card_probs.png', bbox_inches = 'tight')\n",
    "    \n",
    "    return None"
   ]
  },
  {
   "cell_type": "code",
   "execution_count": 52,
   "id": "3fb4eb69-88fd-4b55-841e-7dff27d9883d",
   "metadata": {},
   "outputs": [
    {
     "data": {
      "image/png": "[encoded data removed]",
      "text/plain": [
       "<Figure size 1000x800 with 2 Axes>"
      ]
     },
     "metadata": {},
     "output_type": "display_data"
    }
   ],
   "source": [
    "create_heatmap('png')"
   ]
  },
  {
   "cell_type": "code",
   "execution_count": null,
   "id": "d679980e-2d9c-4ccb-9b6a-49d644873779",
   "metadata": {},
   "outputs": [],
   "source": []
  }
 ],
 "metadata": {
  "kernelspec": {
   "display_name": "Python 3 (ipykernel)",
   "language": "python",
   "name": "python3"
  },
  "language_info": {
   "codemirror_mode": {
    "name": "ipython",
    "version": 3
   },
   "file_extension": ".py",
   "mimetype": "text/x-python",
   "name": "python",
   "nbconvert_exporter": "python",
   "pygments_lexer": "ipython3",
   "version": "3.11.6"
  }
 },
 "nbformat": 4,
 "nbformat_minor": 5
}
