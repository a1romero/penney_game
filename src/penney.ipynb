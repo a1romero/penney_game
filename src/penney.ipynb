{
 "cells": [
  {
   "cell_type": "markdown",
   "id": "cf3373e4-39c1-4ab6-b9c8-2209057a35b4",
   "metadata": {
    "jp-MarkdownHeadingCollapsed": true
   },
   "source": [
    "# random stuff that can be ignored"
   ]
  },
  {
   "cell_type": "code",
   "execution_count": 1,
   "id": "9ce65e90-3384-4564-b095-fed7032f811b",
   "metadata": {},
   "outputs": [],
   "source": [
    "import time\n",
    "from datetime import datetime as dt\n",
    "\n",
    "from dataclasses import dataclass\n",
    "from typing import Callable\n",
    "import numpy as np\n",
    "from numpy import random"
   ]
  },
  {
   "cell_type": "code",
   "execution_count": 2,
   "id": "0e679a89-9779-4f7c-aabc-79450a9cad87",
   "metadata": {},
   "outputs": [],
   "source": [
    "def timer(func: Callable) -> Callable:\n",
    "    def wrapper(*args, **kwargs): #sorta call function here, need args for that function hence arg kwarg\n",
    "        print(\"Function: \", func.__name__)\n",
    "        print(\"Pos Args: \", args)\n",
    "        print(\"Keyword Args: \", kwargs)\n",
    "\n",
    "        t0 = dt.now()\n",
    "        results = func(*args, **kwargs)\n",
    "        print(str((func.__name__)), \" ran for \", str((dt.now()-t0)))\n",
    "\n",
    "        return results\n",
    "    return wrapper"
   ]
  },
  {
   "cell_type": "code",
   "execution_count": 3,
   "id": "954de881-e8ce-4352-9cf0-0f956f4abfcf",
   "metadata": {},
   "outputs": [],
   "source": [
    "np.random.seed(43)"
   ]
  },
  {
   "cell_type": "code",
   "execution_count": 4,
   "id": "d6cd68ae-a66c-4471-a59e-1e7d0d847ad2",
   "metadata": {},
   "outputs": [],
   "source": [
    "p_heads = 0.51\n",
    "\n",
    "@timer\n",
    "def toss_coin(n, seed):\n",
    "    np.random.seed(seed)\n",
    "    n_heads = 0\n",
    "    for _ in range(n):\n",
    "        n_heads += np.random.random()*p_heads\n",
    "    return n_heads/n\n",
    "\n",
    "@timer\n",
    "def toss_coins(n, seed):\n",
    "    np.random.seed(seed)\n",
    "    n_heads = sum(np.random.random(size = n)*p_heads)\n",
    "    return n_heads/n"
   ]
  },
  {
   "cell_type": "code",
   "execution_count": 5,
   "id": "ca4b6b8d-cdf1-4f2f-999f-176a2a59497e",
   "metadata": {},
   "outputs": [
    {
     "name": "stdout",
     "output_type": "stream",
     "text": [
      "Function:  toss_coin\n",
      "Pos Args:  (10000, 43)\n",
      "Keyword Args:  {}\n",
      "toss_coin  ran for  0:00:00.007371\n",
      "Function:  toss_coins\n",
      "Pos Args:  (10000, 43)\n",
      "Keyword Args:  {}\n",
      "toss_coins  ran for  0:00:00.002245\n"
     ]
    },
    {
     "data": {
      "text/plain": [
       "0.25858015441659576"
      ]
     },
     "execution_count": 5,
     "metadata": {},
     "output_type": "execute_result"
    }
   ],
   "source": [
    "toss_coin(10000, 43)\n",
    "\n",
    "toss_coins(10000, 43)"
   ]
  },
  {
   "cell_type": "markdown",
   "id": "b4b7d648-99e8-474d-a0c9-5636d85fce0d",
   "metadata": {},
   "source": [
    "# the simmer"
   ]
  },
  {
   "cell_type": "code",
   "execution_count": 16,
   "id": "fb361e78-bf9c-45d7-8edc-5954037c250d",
   "metadata": {},
   "outputs": [],
   "source": [
    "def sim_penney(n: int):\n",
    "    # n = num of matches/outputs to produce\n",
    "    game_decks = []\n",
    "\n",
    "    for i in range(n): # simulate n many game decks  \n",
    "        # create black/red decks\n",
    "        black = np.full(\n",
    "          shape = 26,\n",
    "          fill_value = \"0\",\n",
    "          dtype = str\n",
    "        )\n",
    "    \n",
    "        red = np.full(\n",
    "          shape = 26,\n",
    "          fill_value = \"1\",\n",
    "          dtype = str\n",
    "        )\n",
    "\n",
    "        # combine\n",
    "        deck = np.concatenate((black, red))\n",
    "        # shuffle to randomize\n",
    "        random.shuffle(deck)\n",
    "\n",
    "        # turn deck into string to be parsed\n",
    "        deck_string = \"\".join(deck)\n",
    "\n",
    "        # add gamedeck to list of decks\n",
    "        game_decks.append(deck_string)\n",
    "\n",
    "    return game_decks # return all games simulated\n",
    "    \n"
   ]
  },
  {
   "cell_type": "code",
   "execution_count": 19,
   "id": "2a047978-9d09-4810-9265-b5bcb9312421",
   "metadata": {},
   "outputs": [],
   "source": [
    "d = sim_penney(4)"
   ]
  },
  {
   "cell_type": "code",
   "execution_count": 20,
   "id": "7a077475-c349-4a0c-ab7a-b7c94ca7f016",
   "metadata": {},
   "outputs": [
    {
     "data": {
      "text/plain": [
       "['0100111011001011101011000101010111000101000100110101',\n",
       " '0010100000010110100110100010010111101101100110110111',\n",
       " '0010000111111110100010110110001110110001000001110101',\n",
       " '0101000001001101000001110110111100101110011011010011']"
      ]
     },
     "execution_count": 20,
     "metadata": {},
     "output_type": "execute_result"
    }
   ],
   "source": [
    "d"
   ]
  }
 ],
 "metadata": {
  "kernelspec": {
   "display_name": "Python 3 (ipykernel)",
   "language": "python",
   "name": "python3"
  },
  "language_info": {
   "codemirror_mode": {
    "name": "ipython",
    "version": 3
   },
   "file_extension": ".py",
   "mimetype": "text/x-python",
   "name": "python",
   "nbconvert_exporter": "python",
   "pygments_lexer": "ipython3",
   "version": "3.11.6"
  }
 },
 "nbformat": 4,
 "nbformat_minor": 5
}
