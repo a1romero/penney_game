{
 "cells": [
  {
   "cell_type": "code",
   "execution_count": 2,
   "metadata": {},
   "outputs": [],
   "source": [
    "import pandas as pd\n",
    "import numpy as np"
   ]
  },
  {
   "cell_type": "code",
   "execution_count": 3,
   "metadata": {},
   "outputs": [],
   "source": [
    "import finish_src.penney_game as game"
   ]
  },
  {
   "cell_type": "code",
   "execution_count": 4,
   "metadata": {},
   "outputs": [
    {
     "name": "stdout",
     "output_type": "stream",
     "text": [
      "10 games played with variation 2.\n"
     ]
    },
    {
     "data": {
      "text/plain": [
       "array([[0.0, 0.4, 0.6, 0.7, 1.0, 0.7, 0.8, 0.6],\n",
       "       [0.7, 0.0, 0.1, 0.0, 0.8, 0.0, 0.6, 0.0],\n",
       "       [0.6, 1.0, 0.0, 0.5, 0.6, 0.2, 0.8, 0.4],\n",
       "       [0.5, 1.0, 0.8, 0.0, 0.7, 0.7, 0.1, 0.1],\n",
       "       [0.0, 0.2, 0.7, 0.4, 0.0, 0.7, 0.8, 0.2],\n",
       "       [0.3, 1.0, 0.8, 0.4, 0.6, 0.0, 0.8, 0.5],\n",
       "       [0.2, 0.7, 0.3, 1.0, 0.3, 0.4, 0.0, 0.8],\n",
       "       [0.7, 1.0, 0.8, 1.0, 0.9, 0.7, 0.4, 0.0]], dtype=object)"
      ]
     },
     "execution_count": 4,
     "metadata": {},
     "output_type": "execute_result"
    }
   ],
   "source": [
    "game.play_n_games(n=10,data='data/',variation=2, seed=None)"
   ]
  }
 ],
 "metadata": {
  "kernelspec": {
   "display_name": "base",
   "language": "python",
   "name": "python3"
  },
  "language_info": {
   "codemirror_mode": {
    "name": "ipython",
    "version": 3
   },
   "file_extension": ".py",
   "mimetype": "text/x-python",
   "name": "python",
   "nbconvert_exporter": "python",
   "pygments_lexer": "ipython3",
   "version": "3.9.12"
  }
 },
 "nbformat": 4,
 "nbformat_minor": 2
}
