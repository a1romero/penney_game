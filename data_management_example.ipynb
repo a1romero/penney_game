{
 "cells": [
  {
   "cell_type": "code",
   "execution_count": 6,
   "metadata": {},
   "outputs": [
    {
     "ename": "ModuleNotFoundError",
     "evalue": "No module named 'pandas'",
     "output_type": "error",
     "traceback": [
      "\u001b[1;31m---------------------------------------------------------------------------\u001b[0m",
      "\u001b[1;31mModuleNotFoundError\u001b[0m                       Traceback (most recent call last)",
      "Cell \u001b[1;32mIn[6], line 1\u001b[0m\n\u001b[1;32m----> 1\u001b[0m \u001b[38;5;28;01mimport\u001b[39;00m \u001b[38;5;21;01mpandas\u001b[39;00m \u001b[38;5;28;01mas\u001b[39;00m \u001b[38;5;21;01mpd\u001b[39;00m\n\u001b[0;32m      2\u001b[0m \u001b[38;5;28;01mimport\u001b[39;00m \u001b[38;5;21;01mnumpy\u001b[39;00m \u001b[38;5;28;01mas\u001b[39;00m \u001b[38;5;21;01mnp\u001b[39;00m\n",
      "\u001b[1;31mModuleNotFoundError\u001b[0m: No module named 'pandas'"
     ]
    }
   ],
   "source": [
    "import pandas as pd\n",
    "import numpy as np"
   ]
  },
  {
   "cell_type": "code",
   "execution_count": 2,
   "metadata": {},
   "outputs": [],
   "source": [
    "import finish_src.penney_game as game"
   ]
  },
  {
   "cell_type": "code",
   "execution_count": 4,
   "metadata": {},
   "outputs": [
    {
     "name": "stdout",
     "output_type": "stream",
     "text": [
      "10 games played with variation 2.\n"
     ]
    },
    {
     "data": {
      "text/plain": [
       "array([[0.0, 0.4, 0.7, 0.9, 1.0, 1.0, 1.0, 0.7],\n",
       "       [0.7, 0.0, 0.1, 0.1, 1.0, 0.2, 0.8, 0.0],\n",
       "       [0.4, 0.9, 0.0, 0.7, 0.7, 0.8, 0.9, 0.4],\n",
       "       [0.1, 0.9, 0.5, 0.0, 0.4, 0.7, 0.1, 0.0],\n",
       "       [0.0, 0.0, 0.5, 0.9, 0.0, 0.8, 1.0, 0.2],\n",
       "       [0.3, 0.9, 0.3, 0.5, 0.4, 0.0, 0.9, 0.3],\n",
       "       [0.0, 0.4, 0.2, 1.0, 0.0, 0.1, 0.0, 0.6],\n",
       "       [0.6, 1.0, 0.7, 1.0, 0.8, 0.9, 0.5, 0.0]], dtype=object)"
      ]
     },
     "execution_count": 4,
     "metadata": {},
     "output_type": "execute_result"
    }
   ],
   "source": [
    "all_data = game.play_n_games(n=10, data='data/', variation=2, seed=None)\n",
    "all_data"
   ]
  },
  {
   "cell_type": "code",
   "execution_count": null,
   "metadata": {},
   "outputs": [],
   "source": [
    "game.create_heatmap(all_data)"
   ]
  }
 ],
 "metadata": {
  "kernelspec": {
   "display_name": "base",
   "language": "python",
   "name": "python3"
  },
  "language_info": {
   "codemirror_mode": {
    "name": "ipython",
    "version": 3
   },
   "file_extension": ".py",
   "mimetype": "text/x-python",
   "name": "python",
   "nbconvert_exporter": "python",
   "pygments_lexer": "ipython3",
   "version": "3.9.7"
  }
 },
 "nbformat": 4,
 "nbformat_minor": 2
}
